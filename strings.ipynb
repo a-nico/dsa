{
 "cells": [
  {
   "cell_type": "code",
   "execution_count": 7,
   "id": "7b8fb5d8",
   "metadata": {},
   "outputs": [],
   "source": [
    "from typing import Optional\n",
    "\n",
    "class TrieNode:\n",
    "    \"\"\"\n",
    "    This is basically a graph where each edge is labeled by a character.\n",
    "    \"\"\"\n",
    "    def __init__(self) -> None:\n",
    "        self.children: dict[str, TrieNode] = {}\n",
    "        self.is_word: bool = False\n",
    "\n",
    "    def add(self, word: str) -> None:\n",
    "        node = self\n",
    "        for c in word:\n",
    "            if c not in node.children:\n",
    "                node.children[c] = TrieNode()\n",
    "            node = node.children[c]\n",
    "        node.is_word = True\n",
    "\n",
    "    def get_node(self, prefix: str) -> Optional[\"TrieNode\"]:\n",
    "        \"\"\"Gets node (i.e. sub-trie) following the characters in `prefix`\"\"\"\n",
    "        node = self\n",
    "        for c in prefix:\n",
    "            if c not in node.children:\n",
    "                return\n",
    "            node = node.children[c]\n",
    "        return node\n",
    "\n",
    "    def has_word(self, word: str) -> bool:\n",
    "        node = self.get_node(word)\n",
    "        return node is not None and node.is_word\n",
    "\n",
    "    def has_prefix(self, prefix: str) -> bool:\n",
    "        node = self.get_node(prefix)\n",
    "        return node is not None\n",
    "    \n",
    "    def get_all_letters(self) -> list[str]:\n",
    "        return list(self.root.children.keys())\n",
    "\n",
    "    def __repr__(self) -> str:\n",
    "        return str(self.children)"
   ]
  },
  {
   "cell_type": "code",
   "execution_count": 8,
   "id": "6d74d4ca",
   "metadata": {},
   "outputs": [
    {
     "data": {
      "text/plain": [
       "True"
      ]
     },
     "execution_count": 8,
     "metadata": {},
     "output_type": "execute_result"
    }
   ],
   "source": [
    "t = TrieNode()\n",
    "t.add(\"cat\")\n",
    "t.add(\"cats\")\n",
    "t.add(\"caterpillar\")\n",
    "\n",
    "t.has_prefix(\"ca\")"
   ]
  }
 ],
 "metadata": {
  "kernelspec": {
   "display_name": "Python 3",
   "language": "python",
   "name": "python3"
  },
  "language_info": {
   "codemirror_mode": {
    "name": "ipython",
    "version": 3
   },
   "file_extension": ".py",
   "mimetype": "text/x-python",
   "name": "python",
   "nbconvert_exporter": "python",
   "pygments_lexer": "ipython3",
   "version": "3.12.3"
  }
 },
 "nbformat": 4,
 "nbformat_minor": 5
}
