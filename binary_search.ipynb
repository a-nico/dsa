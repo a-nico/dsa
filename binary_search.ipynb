{
 "cells": [
  {
   "cell_type": "markdown",
   "id": "4c2472ba",
   "metadata": {},
   "source": [
    "### Binary Search"
   ]
  },
  {
   "cell_type": "code",
   "execution_count": null,
   "id": "dc674d61",
   "metadata": {},
   "outputs": [
    {
     "name": "stdout",
     "output_type": "stream",
     "text": [
      "[-1, 2, 2, 100]\n",
      "len: 4\n",
      "bisect_left(arr, 2) --> 1\n",
      "bisect_left(arr, -1) --> 0\n",
      "bisect_left(arr, -5) --> 0\n",
      "bisect_left(arr, 6) --> 3\n",
      "bisect_left(arr, 100) --> 3\n",
      "bisect_left(arr, 101) --> 4\n",
      "bisect_left([], 101) --> 0\n"
     ]
    }
   ],
   "source": [
    "from bisect import bisect_left\n",
    "# finds the first index where x WOULD GO in the array\n",
    "\n",
    "arr = [-1, 2, 2, 100]\n",
    "print(arr)\n",
    "print(\"len:\", len(arr))\n",
    "print(\"bisect_left(arr, 2) -->\", bisect_left(arr, 2))\n",
    "print(\"bisect_left(arr, -1) -->\", bisect_left(arr, -1))\n",
    "print(\"bisect_left(arr, -5) -->\", bisect_left(arr, -5))\n",
    "print(\"bisect_left(arr, 6) -->\", bisect_left(arr, 6))\n",
    "print(\"bisect_left(arr, 100) -->\", bisect_left(arr, 100))\n",
    "print(\"bisect_left(arr, 101) -->\", bisect_left(arr, 101))\n",
    "print(\"bisect_left([], 101) -->\", bisect_left([], 101))"
   ]
  },
  {
   "cell_type": "code",
   "execution_count": null,
   "id": "fab15097",
   "metadata": {},
   "outputs": [
    {
     "name": "stdout",
     "output_type": "stream",
     "text": [
      "[-1, 2, 2, 100]\n",
      "len: 4\n",
      "bisect_right(arr, 2) --> 3\n",
      "bisect_right(arr, -1) --> 1\n",
      "bisect_right(arr, -5) --> 0\n",
      "bisect_right(arr, 6) --> 3\n",
      "bisect_right(arr, 100) --> 4\n",
      "bisect_right(arr, 101) --> 4\n",
      "bisect_right([], 101) --> 0\n"
     ]
    }
   ],
   "source": [
    "from bisect import bisect_right\n",
    "# finds the last index where x WOULD GO in the array\n",
    "\n",
    "arr = [-1, 2, 2, 100]\n",
    "print(arr)\n",
    "print(\"len:\", len(arr))\n",
    "print(\"bisect_right(arr, 2) -->\", bisect_right(arr, 2))\n",
    "print(\"bisect_right(arr, -1) -->\", bisect_right(arr, -1))\n",
    "print(\"bisect_right(arr, -5) -->\", bisect_right(arr, -5))\n",
    "print(\"bisect_right(arr, 6) -->\", bisect_right(arr, 6))\n",
    "print(\"bisect_right(arr, 100) -->\", bisect_right(arr, 100))\n",
    "print(\"bisect_right(arr, 101) -->\", bisect_right(arr, 101))\n",
    "print(\"bisect_right([], 101) -->\", bisect_right([], 101))"
   ]
  },
  {
   "cell_type": "code",
   "execution_count": null,
   "id": "ca813bf8",
   "metadata": {},
   "outputs": [
    {
     "name": "stdout",
     "output_type": "stream",
     "text": [
      "[1, 10, 25]\n",
      "-5: 1\n",
      "1: 1\n",
      "6: 10\n",
      "12: 10\n",
      "1000: 25\n"
     ]
    }
   ],
   "source": [
    "def closest_element(arr: list[float], x: float) -> float:\n",
    "    i = bisect_left(arr, x)\n",
    "    if i == 0:\n",
    "        return arr[0]\n",
    "    if i == len(arr):\n",
    "        return arr[-1]\n",
    "    if abs(arr[i] - x) < abs(arr[i - 1] - x):\n",
    "        return arr[i]\n",
    "    return arr[i - 1]\n",
    "\n",
    "\n",
    "arr = [1, 10, 25]\n",
    "print(arr)\n",
    "print(\"-5:\", closest_element(arr, -5))\n",
    "print(\"1:\", closest_element(arr, 1))\n",
    "print(\"6:\", closest_element(arr, 6))\n",
    "print(\"12:\", closest_element(arr, 12))\n",
    "print(\"1000:\", closest_element(arr, 1000))\n",
    "\n",
    "\n"
   ]
  },
  {
   "cell_type": "markdown",
   "id": "a7b717af",
   "metadata": {},
   "source": [
    "### Using key"
   ]
  },
  {
   "cell_type": "code",
   "execution_count": 4,
   "id": "ccfe5bca",
   "metadata": {},
   "outputs": [
    {
     "name": "stdout",
     "output_type": "stream",
     "text": [
      "Index of 31: 2    --    Person(name='Charlie', age=31)\n"
     ]
    }
   ],
   "source": [
    "from bisect import bisect_left\n",
    "\n",
    "class Person:\n",
    "    def __init__(self, name: str, age: int):\n",
    "        self.name = name\n",
    "        self.age = age\n",
    "\n",
    "    def __repr__(self):\n",
    "        return f\"Person(name={self.name!r}, age={self.age})\"\n",
    "\n",
    "people = [\n",
    "    Person(\"Eve\", 35),\n",
    "    Person(\"Bob\", 27),\n",
    "    Person(\"Charlie\", 31),\n",
    "    Person(\"David\", 31), # Another person with the same age\n",
    "    Person(\"Alice\", 23),\n",
    "    Person(\"Frank\", 40),\n",
    "]\n",
    "people.sort(key=lambda p: p.age)\n",
    "\n",
    "target_age_to_find = 31\n",
    "\n",
    "index = bisect_left(people, target_age_to_find, key=lambda p: p.age)\n",
    "print(\"Index of 31:\", index, \"   --   \", people[index])\n"
   ]
  }
 ],
 "metadata": {
  "kernelspec": {
   "display_name": "Python 3",
   "language": "python",
   "name": "python3"
  },
  "language_info": {
   "codemirror_mode": {
    "name": "ipython",
    "version": 3
   },
   "file_extension": ".py",
   "mimetype": "text/x-python",
   "name": "python",
   "nbconvert_exporter": "python",
   "pygments_lexer": "ipython3",
   "version": "3.12.3"
  }
 },
 "nbformat": 4,
 "nbformat_minor": 5
}
