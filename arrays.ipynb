{
 "cells": [
  {
   "cell_type": "code",
   "execution_count": null,
   "id": "d1407a3c",
   "metadata": {},
   "outputs": [],
   "source": [
    "from sortedcontainers import SortedList\n",
    "\n",
    "\"\"\"\n",
    "You can add elements, remove elements, and get the closest \n",
    "element all in O(log n) time.\n",
    "\"\"\"\n",
    "class FastSearchList():\n",
    "    def __init__(self):\n",
    "        self.data = SortedList()\n",
    "\n",
    "    def add(self, value):\n",
    "        # O(log n)\n",
    "        self.data.add(value)\n",
    "\n",
    "    def remove(self, value):\n",
    "        # O(log n)\n",
    "        self.data.remove(value)\n",
    "\n",
    "    def get_closest(self, x):\n",
    "        \"\"\"Returns closest value to x. If tie, gives the smaller one.\"\"\"\n",
    "        idx = self.data.bisect_left(x)\n",
    "        if idx == 0:\n",
    "            return self.data[0]\n",
    "        if idx == len(self.data):\n",
    "            return self.data[-1]\n",
    "        before = self.data[idx - 1]\n",
    "        after = self.data[idx]\n",
    "        if abs(before - x) <= abs(after - x):\n",
    "            return before\n",
    "        else:\n",
    "            return after\n",
    "        \n",
    "    def __getitem__(self, index):\n",
    "        return self.data[index]"
   ]
  }
 ],
 "metadata": {
  "kernelspec": {
   "display_name": "Python 3",
   "language": "python",
   "name": "python3"
  },
  "language_info": {
   "codemirror_mode": {
    "name": "ipython",
    "version": 3
   },
   "file_extension": ".py",
   "mimetype": "text/x-python",
   "name": "python",
   "nbconvert_exporter": "python",
   "pygments_lexer": "ipython3",
   "version": "3.12.3"
  }
 },
 "nbformat": 4,
 "nbformat_minor": 5
}
