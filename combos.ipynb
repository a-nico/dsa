{
 "cells": [
  {
   "cell_type": "markdown",
   "id": "d00006a5",
   "metadata": {},
   "source": [
    "### Combinations\n",
    "Order doesn't matter. (1, 2) == (2, 1)\n",
    "\n",
    "Note: to avoid duplicates, first sort the array then use the set to skip over \"used\" elements in the for loop. See Permutations section."
   ]
  },
  {
   "cell_type": "code",
   "execution_count": 63,
   "id": "d6673338",
   "metadata": {},
   "outputs": [
    {
     "data": {
      "text/plain": [
       "[(1, 2, 5), (1, 2, 7), (1, 5, 7), (2, 5, 7)]"
      ]
     },
     "execution_count": 63,
     "metadata": {},
     "output_type": "execute_result"
    }
   ],
   "source": [
    "from itertools import combinations\n",
    "\n",
    "list(combinations([1, 2, 5, 7], 3))"
   ]
  },
  {
   "cell_type": "code",
   "execution_count": 85,
   "id": "06ec01e5",
   "metadata": {},
   "outputs": [
    {
     "name": "stdout",
     "output_type": "stream",
     "text": [
      "[]\n",
      "[1]\n",
      "[1, 1]\n",
      "[1, 1, 2]\n",
      "[1, 1, 3]\n",
      "[1, 2]\n",
      "[1, 2, 3]\n",
      "[1, 3]\n",
      "[2]\n",
      "[2, 3]\n",
      "[3]\n"
     ]
    },
    {
     "data": {
      "text/plain": [
       "[[1, 1, 2], [1, 1, 3], [1, 2, 3]]"
      ]
     },
     "execution_count": 85,
     "metadata": {},
     "output_type": "execute_result"
    }
   ],
   "source": [
    "def combinations(arr: list[int], r: int) -> list[list[int]]:\n",
    "    result = []\n",
    "    arr.sort()\n",
    "\n",
    "    def backtrack(start: int, path: list[int]) -> None:\n",
    "        print(path)\n",
    "        if len(path) == r:\n",
    "            result.append(path.copy())\n",
    "            return  # remove this to get all possible lengths\n",
    "        \n",
    "        used = set()\n",
    "        for i in range(start, len(arr)):\n",
    "            if arr[i] in used:\n",
    "                continue\n",
    "            used.add(arr[i])\n",
    "            path.append(arr[i])\n",
    "            backtrack(i + 1, path)  # remove “+ 1” to allow repeats.\n",
    "            path.pop()\n",
    "    \n",
    "    backtrack(0, [])\n",
    "    return result\n",
    "\n",
    "###\n",
    "combinations([1, 2, 3, 1], 3)"
   ]
  },
  {
   "cell_type": "code",
   "execution_count": null,
   "id": "706dd43c",
   "metadata": {},
   "outputs": [],
   "source": [
    "# if repeats are allowed, use\n",
    "from itertools import combinations_with_replacement"
   ]
  },
  {
   "cell_type": "markdown",
   "id": "af2271b9",
   "metadata": {},
   "source": [
    "### Subsets\n",
    "Combos of all lengths"
   ]
  },
  {
   "cell_type": "code",
   "execution_count": null,
   "id": "b62ad477",
   "metadata": {},
   "outputs": [
    {
     "data": {
      "text/plain": [
       "[[], [1], [2], [1, 2], [3], [1, 3], [2, 3], [1, 2, 3]]"
      ]
     },
     "execution_count": 69,
     "metadata": {},
     "output_type": "execute_result"
    }
   ],
   "source": [
    "# Recursive\n",
    "def subsets_recursive(items: list) -> list[list]:\n",
    "    if not items:\n",
    "        return [[]]\n",
    "    # all except last element\n",
    "    subsets = subsets_recursive(items[:-1])\n",
    "    return subsets + [s + [items[-1]] for s in subsets]\n",
    "\n",
    "\n",
    "# Iterative\n",
    "def subsets_iterative(items: list) -> list[list]:\n",
    "    subsets = [[]]\n",
    "    for item in items:\n",
    "        # add this item to everything in subsets\n",
    "        for i in range(len(subsets)):\n",
    "            subsets.append(subsets[i].copy())\n",
    "            subsets[-1].append(item)\n",
    "    return subsets\n",
    "\n",
    "\n",
    "# Binary counting\n",
    "def subsets_binary(items):\n",
    "    n = len(items)\n",
    "    all_subsets = []\n",
    "    \n",
    "    # Generate all binary numbers from 0 to 2^n - 1\n",
    "    for i in range(1 << n):  # 1 << n is 2^n\n",
    "        # 1 << j creates a binary number with only the jth bit set to 1\n",
    "        # i & (1 << j) performs a bitwise AND operation\n",
    "        # This determines whether to include the jth element in the current subset\n",
    "        subset = [items[j] for j in range(n) if (i & (1 << j))]\n",
    "        all_subsets.append(subset)\n",
    "    \n",
    "    return all_subsets\n",
    "\n",
    "subsets_binary([1, 2, 3])"
   ]
  },
  {
   "cell_type": "markdown",
   "id": "60779101",
   "metadata": {},
   "source": [
    "For de-duped cases, need to avoid using the same item twice on the same tree level."
   ]
  },
  {
   "cell_type": "code",
   "execution_count": null,
   "id": "f6e20bd9",
   "metadata": {},
   "outputs": [],
   "source": [
    "# stack/queue based solution (doesn't matter if stack of queue)\n",
    "def subsets_iterative_deduped_stack(items):\n",
    "    items.sort()\n",
    "    result = []\n",
    "\n",
    "    stack = [([], 0)]\n",
    "    while stack:\n",
    "        subset, start_idx = stack.pop()\n",
    "        result.append(subset)\n",
    "        for i in range(start_idx, len(items)):\n",
    "            # dedupe here\n",
    "            if i > start_idx and items[i] == items[i - 1]:\n",
    "                continue  # don't repeat it\n",
    "            stack.append((subset + [items[i]], i + 1))\n",
    "\n",
    "    return result\n",
    "\n",
    "# solution without sorting (keep a set per level of tree)\n",
    "def subsets_iterative_deduped_no_sorting(items):\n",
    "    result = []\n",
    "    subsets_this_level = [([], 0)]\n",
    "\n",
    "    while subsets_this_level:\n",
    "        used = set()\n",
    "        subsets_next_level = []\n",
    "        for subset, start_idx in subsets_this_level:\n",
    "            result.append(subset)\n",
    "            for i in range(start_idx, len(items)):\n",
    "                # dedupe here\n",
    "                if items[i] in used:\n",
    "                    continue\n",
    "                used.add(items[i])\n",
    "                subsets_next_level.append((subset + [items[i]], i + 1))\n",
    "        \n",
    "        subsets_this_level = subsets_next_level\n",
    "    return result\n",
    "\n",
    "\n",
    "def subsets_recursive_deduped(items):\n",
    "    # Sort the items to group duplicates together\n",
    "    items.sort()\n",
    "    result = []\n",
    "    \n",
    "    def backtrack(start, current_subset):\n",
    "        # Add the current subset to the result\n",
    "        result.append(current_subset[:])\n",
    "        \n",
    "        # Try adding each remaining item\n",
    "        for i in range(start, len(items)):\n",
    "            # Skip duplicates - only take first occurrence at each level\n",
    "            if i > start and items[i] == items[i - 1]:\n",
    "                continue\n",
    "                \n",
    "            # Include this element\n",
    "            current_subset.append(items[i])\n",
    "            # Recurse to the next position\n",
    "            backtrack(i + 1, current_subset)\n",
    "            # Backtrack\n",
    "            current_subset.pop()\n",
    "    \n",
    "    backtrack(0, [])\n",
    "    return result"
   ]
  },
  {
   "cell_type": "markdown",
   "id": "5eaeb2bd",
   "metadata": {},
   "source": [
    "### Permutations\n",
    "Order matters. (1, 2) != (2, 1)"
   ]
  },
  {
   "cell_type": "code",
   "execution_count": 10,
   "id": "6f569dd0",
   "metadata": {},
   "outputs": [
    {
     "data": {
      "text/plain": [
       "[(1, 2), (1, 3), (2, 1), (2, 3), (3, 1), (3, 2)]"
      ]
     },
     "execution_count": 10,
     "metadata": {},
     "output_type": "execute_result"
    }
   ],
   "source": [
    "from itertools import permutations\n",
    "\n",
    "list(permutations([1, 2, 3], 2))"
   ]
  },
  {
   "cell_type": "code",
   "execution_count": 72,
   "id": "51b70bdb",
   "metadata": {},
   "outputs": [
    {
     "name": "stdout",
     "output_type": "stream",
     "text": [
      "[[1, 1, 2], [1, 2, 1], [2, 1, 1]]\n",
      "[[1, 1, 2], [1, 2, 1], [1, 1, 2], [1, 2, 1], [2, 1, 1], [2, 1, 1]]\n"
     ]
    }
   ],
   "source": [
    "def permutations(arr: list[int], r: int, allow_repeats: bool = True):\n",
    "    if r == 0:\n",
    "        return [[]]\n",
    "\n",
    "    result = []\n",
    "    used = set() if not allow_repeats else None  # create only if needed\n",
    "    for i in range(len(arr)):\n",
    "        # Use the current item as the first element\n",
    "        current = arr[i]\n",
    "        if not allow_repeats:\n",
    "            if current in used:\n",
    "                # skip to avoid repeats\n",
    "                continue\n",
    "            used.add(current)\n",
    "        # Get the remaining items\n",
    "        remaining = arr[:i] + arr[i + 1:]\n",
    "        \n",
    "        # Generate all permutations of remaining items\n",
    "        for p in permutations(remaining, r - 1, allow_repeats):\n",
    "            result.append([current] + p)\n",
    "    \n",
    "    return result\n",
    "\n",
    "print(permutations([1, 1, 2], 3, allow_repeats=False))\n",
    "print(permutations([1, 1, 2], 3, allow_repeats=True))"
   ]
  }
 ],
 "metadata": {
  "kernelspec": {
   "display_name": "Python 3",
   "language": "python",
   "name": "python3"
  },
  "language_info": {
   "codemirror_mode": {
    "name": "ipython",
    "version": 3
   },
   "file_extension": ".py",
   "mimetype": "text/x-python",
   "name": "python",
   "nbconvert_exporter": "python",
   "pygments_lexer": "ipython3",
   "version": "3.12.3"
  }
 },
 "nbformat": 4,
 "nbformat_minor": 5
}
