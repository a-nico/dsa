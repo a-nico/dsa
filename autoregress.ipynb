{
 "cells": [
  {
   "cell_type": "markdown",
   "id": "c7691476",
   "metadata": {},
   "source": [
    "### Beam Search"
   ]
  },
  {
   "cell_type": "code",
   "execution_count": 8,
   "id": "b0515611",
   "metadata": {},
   "outputs": [
    {
     "name": "stdout",
     "output_type": "stream",
     "text": [
      "Sequence: [0, 3, 1, 2, 0, 1] Score: -4.403832707052807\n",
      "Sequence: [0, 2, 3, 0, 0, 2] Score: -4.526222266536378\n",
      "Sequence: [0, 3, 1, 2, 0, 0] Score: -4.746001534201364\n"
     ]
    }
   ],
   "source": [
    "import numpy as np\n",
    "\n",
    "\n",
    "class MockAutoregressiveModel:\n",
    "    def __init__(self, vocab_size=5, seed=42):\n",
    "        self.vocab_size = vocab_size\n",
    "        self.rng = np.random.default_rng(seed)\n",
    "\n",
    "    def get_logits(self, input_sequence):\n",
    "        # Returns random logits for the next token\n",
    "        # In a real model, this would depend on the input sequence\n",
    "        return self.rng.normal(size=self.vocab_size)\n",
    "\n",
    "    def get_softmax(self, input_sequence):\n",
    "        logits = self.get_logits(input_sequence)\n",
    "        # Numerical stability: subtract max before exp to prevent overflow\n",
    "        exp_logits = np.exp(logits - np.max(logits))\n",
    "        return exp_logits / exp_logits.sum()\n",
    "\n",
    "\n",
    "def beam_search(model, beam_width=3, max_steps=5, start_token=0, end_token=None):\n",
    "    # Each beam is a tuple: (sequence, log_prob)\n",
    "    # Initialize with start token and log probability of 0 (probability 1)\n",
    "    beams = [([start_token], 0.0)]\n",
    "    \n",
    "    for _ in range(max_steps):\n",
    "        all_candidates = []\n",
    "        \n",
    "        # Expand each beam by considering all possible next tokens\n",
    "        for seq, log_prob in beams:\n",
    "            # If sequence ended with end_token, don't expand further\n",
    "            if end_token is not None and seq[-1] == end_token:\n",
    "                all_candidates.append((seq, log_prob))\n",
    "                continue\n",
    "            \n",
    "            # Get model predictions for next token\n",
    "            logits = model.get_logits(seq)\n",
    "            # Convert logits to log probabilities: log(softmax(x)) = x - log_sum_exp(x)\n",
    "            log_probs = logits - np.log(np.sum(np.exp(logits)))\n",
    "            \n",
    "            # Create a candidate for each possible next token\n",
    "            for idx in range(model.vocab_size):\n",
    "                candidate_seq = seq + [idx]\n",
    "                # Add log probability (equivalent to multiplying probabilities)\n",
    "                candidate_log_prob = log_prob + log_probs[idx]\n",
    "                all_candidates.append((candidate_seq, candidate_log_prob))\n",
    "        \n",
    "        # Keep only the top beam_width sequences by score\n",
    "        all_candidates.sort(key=lambda x: x[1], reverse=True)  # Sort by log_prob descending\n",
    "        beams = all_candidates[:beam_width]  # Prune to beam_width\n",
    "        \n",
    "    return beams\n",
    "\n",
    "\n",
    "model = MockAutoregressiveModel(vocab_size=5)\n",
    "results = beam_search(model, beam_width=3, max_steps=5, start_token=0)\n",
    "for seq, score in results:\n",
    "    print(\"Sequence:\", seq, \"Score:\", score)\n"
   ]
  }
 ],
 "metadata": {
  "kernelspec": {
   "display_name": "Python 3",
   "language": "python",
   "name": "python3"
  },
  "language_info": {
   "codemirror_mode": {
    "name": "ipython",
    "version": 3
   },
   "file_extension": ".py",
   "mimetype": "text/x-python",
   "name": "python",
   "nbconvert_exporter": "python",
   "pygments_lexer": "ipython3",
   "version": "3.12.3"
  }
 },
 "nbformat": 4,
 "nbformat_minor": 5
}
